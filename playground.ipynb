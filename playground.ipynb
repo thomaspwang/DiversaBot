{
 "cells": [
  {
   "cell_type": "code",
   "execution_count": 4,
   "id": "2518a798",
   "metadata": {},
   "outputs": [],
   "source": [
    "import os\n",
    "from dotenv import load_dotenv\n",
    "from slack_bolt import App\n",
    "import pygsheets\n",
    "import pandas as pd\n",
    "import re\n",
    "import logging\n",
    "import random\n",
    "from datetime import date\n",
    "\n",
    "g_client = pygsheets.authorize(service_file='google-credentials.json')\n",
    "\n",
    "sh = g_client.open('DiversaBot')\n",
    "\n",
    "sh_spot_history = sh[0]\n",
    "df_spot_history = sh_spot_history.get_as_df(\n",
    "    has_header=True,\n",
    "    index_column=None,\n",
    "    numerize=False,\n",
    "    include_tailing_empty=False,\n",
    "    include_tailing_empty_rows=False\n",
    ")"
   ]
  },
  {
   "cell_type": "code",
   "execution_count": 5,
   "id": "e8107e7f",
   "metadata": {},
   "outputs": [],
   "source": [
    "def spotter_leaderboard():\n",
    "    '''\n",
    "    Returns a leaderboard dataframe for the most spots\n",
    "    columns = ['COUNT', 'RANK']\n",
    "    indexed by SPOTTER, NAME\n",
    "    '''\n",
    "    global df_spot_history\n",
    "\n",
    "    df_spot_history = df_spot_history[df_spot_history[\"FLAGGED\"] == \"FALSE\"]\n",
    "    counts = df_spot_history.groupby(['SPOTTER', 'NAME']).count()\n",
    "    counts.rename(columns={'SPOTTED':'COUNT'}, inplace=True)\n",
    "    counts = counts[['COUNT']]\n",
    "    counts['RANK'] = counts['COUNT'].rank(ascending=False, method='dense')\n",
    "    counts.sort_values(by='COUNT', inplace=True, ascending=False)\n",
    "    return counts"
   ]
  },
  {
   "cell_type": "code",
   "execution_count": 7,
   "id": "7dd70ba2",
   "metadata": {},
   "outputs": [
    {
     "data": {
      "text/html": [
       "<div>\n",
       "<style scoped>\n",
       "    .dataframe tbody tr th:only-of-type {\n",
       "        vertical-align: middle;\n",
       "    }\n",
       "\n",
       "    .dataframe tbody tr th {\n",
       "        vertical-align: top;\n",
       "    }\n",
       "\n",
       "    .dataframe thead th {\n",
       "        text-align: right;\n",
       "    }\n",
       "</style>\n",
       "<table border=\"1\" class=\"dataframe\">\n",
       "  <thead>\n",
       "    <tr style=\"text-align: right;\">\n",
       "      <th></th>\n",
       "      <th></th>\n",
       "      <th>COUNT</th>\n",
       "      <th>RANK</th>\n",
       "    </tr>\n",
       "    <tr>\n",
       "      <th>SPOTTER</th>\n",
       "      <th>NAME</th>\n",
       "      <th></th>\n",
       "      <th></th>\n",
       "    </tr>\n",
       "  </thead>\n",
       "  <tbody>\n",
       "  </tbody>\n",
       "</table>\n",
       "</div>"
      ],
      "text/plain": [
       "Empty DataFrame\n",
       "Columns: [COUNT, RANK]\n",
       "Index: []"
      ]
     },
     "execution_count": 7,
     "metadata": {},
     "output_type": "execute_result"
    }
   ],
   "source": [
    "leaderboard = spotter_leaderboard()\n",
    "leaderboard"
   ]
  },
  {
   "cell_type": "code",
   "execution_count": 9,
   "id": "c6814276",
   "metadata": {},
   "outputs": [
    {
     "data": {
      "text/html": [
       "<div>\n",
       "<style scoped>\n",
       "    .dataframe tbody tr th:only-of-type {\n",
       "        vertical-align: middle;\n",
       "    }\n",
       "\n",
       "    .dataframe tbody tr th {\n",
       "        vertical-align: top;\n",
       "    }\n",
       "\n",
       "    .dataframe thead th {\n",
       "        text-align: right;\n",
       "    }\n",
       "</style>\n",
       "<table border=\"1\" class=\"dataframe\">\n",
       "  <thead>\n",
       "    <tr style=\"text-align: right;\">\n",
       "      <th></th>\n",
       "      <th>SPOTTER</th>\n",
       "      <th>NAME</th>\n",
       "      <th>COUNT</th>\n",
       "      <th>RANK</th>\n",
       "    </tr>\n",
       "  </thead>\n",
       "  <tbody>\n",
       "  </tbody>\n",
       "</table>\n",
       "</div>"
      ],
      "text/plain": [
       "Empty DataFrame\n",
       "Columns: [SPOTTER, NAME, COUNT, RANK]\n",
       "Index: []"
      ]
     },
     "execution_count": 9,
     "metadata": {},
     "output_type": "execute_result"
    }
   ],
   "source": [
    "leaderboard = leaderboard.reset_index()\n",
    "leaderboard"
   ]
  },
  {
   "cell_type": "code",
   "execution_count": 10,
   "id": "1c79535d",
   "metadata": {},
   "outputs": [
    {
     "data": {
      "text/plain": [
       "0"
      ]
     },
     "execution_count": 10,
     "metadata": {},
     "output_type": "execute_result"
    }
   ],
   "source": [
    "len(leaderboard)"
   ]
  },
  {
   "cell_type": "code",
   "execution_count": 12,
   "id": "cdb10183",
   "metadata": {},
   "outputs": [
    {
     "ename": "NameError",
     "evalue": "name 'user' is not defined",
     "output_type": "error",
     "traceback": [
      "\u001b[0;31m---------------------------------------------------------------------------\u001b[0m",
      "\u001b[0;31mNameError\u001b[0m                                 Traceback (most recent call last)",
      "Cell \u001b[0;32mIn[12], line 3\u001b[0m\n\u001b[1;32m      1\u001b[0m leaderboard \u001b[38;5;241m=\u001b[39m spotter_leaderboard()\n\u001b[1;32m      2\u001b[0m leaderboard \u001b[38;5;241m=\u001b[39m leaderboard\u001b[38;5;241m.\u001b[39mreset_index()\n\u001b[0;32m----> 3\u001b[0m rank \u001b[38;5;241m=\u001b[39m leaderboard\u001b[38;5;241m.\u001b[39mindex[leaderboard[\u001b[38;5;124m'\u001b[39m\u001b[38;5;124mSPOTTER\u001b[39m\u001b[38;5;124m'\u001b[39m]\u001b[38;5;241m==\u001b[39m\u001b[43muser\u001b[49m]\u001b[38;5;241m.\u001b[39mtolist()[\u001b[38;5;241m0\u001b[39m]\n\u001b[1;32m      4\u001b[0m size \u001b[38;5;241m=\u001b[39m \u001b[38;5;28mlen\u001b[39m(leaderboard)\n\u001b[1;32m      5\u001b[0m \u001b[38;5;28;01mfor\u001b[39;00m i \u001b[38;5;129;01min\u001b[39;00m \u001b[38;5;28mrange\u001b[39m(\u001b[38;5;28mmax\u001b[39m(\u001b[38;5;241m0\u001b[39m, rank \u001b[38;5;241m-\u001b[39m \u001b[38;5;241m4\u001b[39m), \u001b[38;5;28mmin\u001b[39m(size, rank \u001b[38;5;241m+\u001b[39m \u001b[38;5;241m5\u001b[39m)):\n",
      "\u001b[0;31mNameError\u001b[0m: name 'user' is not defined"
     ]
    }
   ],
   "source": [
    "leaderboard = spotter_leaderboard()\n",
    "leaderboard = leaderboard.reset_index()\n",
    "rank = leaderboard.index[leaderboard['SPOTTER']==user].tolist()[0]\n",
    "size = len(leaderboard)\n",
    "for i in range(max(0, rank - 4), min(size, rank + 5)):\n",
    "    row = leaderboard.iloc[i]"
   ]
  },
  {
   "cell_type": "code",
   "execution_count": 13,
   "id": "440ba389",
   "metadata": {},
   "outputs": [],
   "source": [
    "leaderboard = spotter_leaderboard()\n",
    "leaderboard = leaderboard.reset_index()\n",
    "size = len(leaderboard)\n",
    "for i in range(min(size, 10)):\n",
    "    row = leaderboard.iloc[i]"
   ]
  },
  {
   "cell_type": "code",
   "execution_count": null,
   "id": "3df535bd",
   "metadata": {},
   "outputs": [],
   "source": []
  }
 ],
 "metadata": {
  "kernelspec": {
   "display_name": "Python 3 (ipykernel)",
   "language": "python",
   "name": "python3"
  },
  "language_info": {
   "codemirror_mode": {
    "name": "ipython",
    "version": 3
   },
   "file_extension": ".py",
   "mimetype": "text/x-python",
   "name": "python",
   "nbconvert_exporter": "python",
   "pygments_lexer": "ipython3",
   "version": "3.10.6"
  }
 },
 "nbformat": 4,
 "nbformat_minor": 5
}
